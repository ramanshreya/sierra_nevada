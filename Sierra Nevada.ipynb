{
 "cells": [
  {
   "cell_type": "markdown",
   "id": "25beba63",
   "metadata": {},
   "source": [
    "# Analysing Biodiversity in Sierra Nevada Mountains In Granada, Spain\n",
    "\n",
    "The Sierra Nevada mountains are an important biodiversity hotspot of the Iberian peninsula. Analysing data on plants on the mountain"
   ]
  },
  {
   "cell_type": "code",
   "execution_count": 1,
   "id": "ed74caad",
   "metadata": {},
   "outputs": [],
   "source": [
    "import pandas as pd"
   ]
  },
  {
   "cell_type": "markdown",
   "id": "e4f58cb5",
   "metadata": {},
   "source": [
    "Reading data on the recorded species and analysing based on class, genus and species."
   ]
  },
  {
   "cell_type": "code",
   "execution_count": 2,
   "id": "de38eadf",
   "metadata": {},
   "outputs": [
    {
     "data": {
      "text/plain": [
       "Index(['gbifID', 'datasetKey', 'occurrenceID', 'kingdom', 'phylum', 'class',\n",
       "       'order', 'family', 'genus', 'species', 'infraspecificEpithet',\n",
       "       'taxonRank', 'scientificName', 'verbatimScientificName',\n",
       "       'verbatimScientificNameAuthorship', 'countryCode', 'locality',\n",
       "       'stateProvince', 'occurrenceStatus', 'individualCount',\n",
       "       'publishingOrgKey', 'decimalLatitude', 'decimalLongitude',\n",
       "       'coordinateUncertaintyInMeters', 'coordinatePrecision', 'elevation',\n",
       "       'elevationAccuracy', 'depth', 'depthAccuracy', 'eventDate', 'day',\n",
       "       'month', 'year', 'taxonKey', 'speciesKey', 'basisOfRecord',\n",
       "       'institutionCode', 'collectionCode', 'catalogNumber', 'recordNumber',\n",
       "       'identifiedBy', 'dateIdentified', 'license', 'rightsHolder',\n",
       "       'recordedBy', 'typeStatus', 'establishmentMeans', 'lastInterpreted',\n",
       "       'mediaType', 'issue'],\n",
       "      dtype='object')"
      ]
     },
     "execution_count": 2,
     "metadata": {},
     "output_type": "execute_result"
    }
   ],
   "source": [
    "df=pd.read_csv(\"data/Sierra Nevada.csv\")\n",
    "df.columns"
   ]
  },
  {
   "cell_type": "code",
   "execution_count": 3,
   "id": "333cd653",
   "metadata": {},
   "outputs": [
    {
     "data": {
      "text/plain": [
       "Magnoliopsida     6042\n",
       "Liliopsida        1171\n",
       "Pinopsida          697\n",
       "Polypodiopsida       9\n",
       "Gnetopsida           1\n",
       "Name: class, dtype: int64"
      ]
     },
     "execution_count": 3,
     "metadata": {},
     "output_type": "execute_result"
    }
   ],
   "source": [
    "df['class'].value_counts()"
   ]
  },
  {
   "cell_type": "code",
   "execution_count": 4,
   "id": "371e6c42",
   "metadata": {},
   "outputs": [
    {
     "data": {
      "text/plain": [
       "Thymus         472\n",
       "Pinus          460\n",
       "Festuca        459\n",
       "Quercus        426\n",
       "Genista        280\n",
       "              ... \n",
       "Ruta             1\n",
       "Peucedanum       1\n",
       "Xeranthemum      1\n",
       "Jurinea          1\n",
       "Robinia          1\n",
       "Name: genus, Length: 159, dtype: int64"
      ]
     },
     "execution_count": 4,
     "metadata": {},
     "output_type": "execute_result"
    }
   ],
   "source": [
    "df['genus'].value_counts()"
   ]
  },
  {
   "cell_type": "code",
   "execution_count": 5,
   "id": "13217dd5",
   "metadata": {},
   "outputs": [
    {
     "data": {
      "text/plain": [
       "Quercus rotundifolia     356\n",
       "Koeleria vallesiana      254\n",
       "Pinus sylvestris         251\n",
       "Berberis hispanica       218\n",
       "Crataegus monogyna       204\n",
       "                        ... \n",
       "Peucedanum hispanicum      1\n",
       "Plantago subulata          1\n",
       "Centaurea boissieri        1\n",
       "Rosa corymbifera           1\n",
       "Robinia pseudoacacia       1\n",
       "Name: species, Length: 258, dtype: int64"
      ]
     },
     "execution_count": 5,
     "metadata": {},
     "output_type": "execute_result"
    }
   ],
   "source": [
    "df['species'].value_counts()"
   ]
  },
  {
   "cell_type": "markdown",
   "id": "f82e247d",
   "metadata": {},
   "source": [
    "Reading the dataset that includes data on status of the species based on IUCN Red List of Threatened Species. And analysing data based on this category and saving this dataset as a csv for visualising using d3"
   ]
  },
  {
   "cell_type": "code",
   "execution_count": 6,
   "id": "f9a03bef",
   "metadata": {},
   "outputs": [],
   "source": [
    "df_sierra=pd.read_csv(\"data/Sierra_species.csv\", delimiter='\\t')"
   ]
  },
  {
   "cell_type": "code",
   "execution_count": 7,
   "id": "84f5aa72",
   "metadata": {},
   "outputs": [],
   "source": [
    "df_sierra.iucnRedListCategory=df_sierra.iucnRedListCategory.replace({\n",
    "    \"NE\":\"Not Evaluated\",\n",
    "    \"LC\":\"Least Concern\",\n",
    "    \"VU\":\"Vulnerable\",\n",
    "    \"EN\":\"Endangered\",\n",
    "    \"NT\":\"Near Threatened\",\n",
    "    \"DD\":\"Data Deficient\"\n",
    "})"
   ]
  },
  {
   "cell_type": "code",
   "execution_count": 8,
   "id": "6bb69c83",
   "metadata": {},
   "outputs": [
    {
     "data": {
      "text/plain": [
       "Not Evaluated      191\n",
       "Least Concern       34\n",
       "Vulnerable           4\n",
       "Endangered           3\n",
       "Near Threatened      1\n",
       "Data Deficient       1\n",
       "Name: iucnRedListCategory, dtype: int64"
      ]
     },
     "execution_count": 8,
     "metadata": {},
     "output_type": "execute_result"
    }
   ],
   "source": [
    "df_sierra.iucnRedListCategory.value_counts()"
   ]
  },
  {
   "cell_type": "code",
   "execution_count": 9,
   "id": "5007609a",
   "metadata": {},
   "outputs": [],
   "source": [
    "df_sierra.to_csv(\"data/Sierra.csv\", index=False)"
   ]
  }
 ],
 "metadata": {
  "kernelspec": {
   "display_name": "Python 3 (ipykernel)",
   "language": "python",
   "name": "python3"
  },
  "language_info": {
   "codemirror_mode": {
    "name": "ipython",
    "version": 3
   },
   "file_extension": ".py",
   "mimetype": "text/x-python",
   "name": "python",
   "nbconvert_exporter": "python",
   "pygments_lexer": "ipython3",
   "version": "3.10.3"
  }
 },
 "nbformat": 4,
 "nbformat_minor": 5
}
